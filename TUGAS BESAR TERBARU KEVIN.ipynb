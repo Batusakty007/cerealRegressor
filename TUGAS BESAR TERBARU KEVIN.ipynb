{
 "cells": [
  {
   "cell_type": "code",
   "execution_count": 34,
   "metadata": {
    "collapsed": true
   },
   "outputs": [],
   "source": [
    "#YANG MAU SAYA BUAT ADALAH PENGARUH beberapa NUTRISI DALAM SEREAL DENGAN RATING -> lalu menampilkan nama sereal denga rating yang baik\n",
    "#COPYRIGHT - Kevin Antariksa 150708214\n",
    "\n",
    "\n",
    "#INI LIBRARY YANG DIBUTUHKAN\n",
    "import numpy as np \n",
    "import pandas as pd \n",
    "\n",
    "#MEMAKAI LINEAR REGRESSION \n",
    "from sklearn.model_selection import train_test_split\n",
    "from sklearn.linear_model import LinearRegression"
   ]
  },
  {
   "cell_type": "code",
   "execution_count": 43,
   "metadata": {},
   "outputs": [
    {
     "name": "stdout",
     "output_type": "stream",
     "text": [
      "    calories  protein  fat  sodium  fiber  carbo  potass  vitamins\n",
      "0         70        4    1     130   10.0    5.0     280        25\n",
      "1        120        3    5      15    2.0    8.0     135         0\n",
      "2         70        4    1     260    9.0    7.0     320        25\n",
      "3         50        4    0     140   14.0    8.0     330        25\n",
      "4        110        2    2     200    1.0   14.0      -1        25\n",
      "5        110        2    2     180    1.5   10.5      70        25\n",
      "6        110        2    0     125    1.0   11.0      30        25\n",
      "7        130        3    2     210    2.0   18.0     100        25\n",
      "8         90        2    1     200    4.0   15.0     125        25\n",
      "9         90        3    0     210    5.0   13.0     190        25\n",
      "10       120        1    2     220    0.0   12.0      35        25\n",
      "11       110        6    2     290    2.0   17.0     105        25\n",
      "12       120        1    3     210    0.0   13.0      45        25\n",
      "13       110        3    2     140    2.0   13.0     105        25\n",
      "14       110        1    1     180    0.0   12.0      55        25\n",
      "15       110        2    0     280    0.0   22.0      25        25\n",
      "16       100        2    0     290    1.0   21.0      35        25\n",
      "17       110        1    0      90    1.0   13.0      20        25\n",
      "18       110        1    1     180    0.0   12.0      65        25\n",
      "19       110        3    3     140    4.0   10.0     160        25\n",
      "20       100        3    0      80    1.0   21.0      -1         0\n",
      "21       110        2    0     220    1.0   21.0      30        25\n",
      "22       100        2    1     140    2.0   11.0     120        25\n",
      "23       100        2    0     190    1.0   18.0      80        25\n",
      "24       110        2    1     125    1.0   11.0      30        25\n",
      "25       110        1    0     200    1.0   14.0      25        25\n",
      "26       100        3    0       0    3.0   14.0     100        25\n",
      "27       120        3    2     160    5.0   12.0     200        25\n",
      "28       120        3    0     240    5.0   14.0     190        25\n",
      "29       110        1    1     135    0.0   13.0      25        25\n",
      "..       ...      ...  ...     ...    ...    ...     ...       ...\n",
      "47       100        2    1     220    2.0   15.0      90        25\n",
      "48       120        2    1     190    0.0   15.0      40        25\n",
      "49       140        3    2     220    3.0   21.0     130        25\n",
      "50        90        3    0     170    3.0   18.0      90        25\n",
      "51       130        3    2     170    1.5   13.5     120        25\n",
      "52       120        3    1     200    6.0   11.0     260        25\n",
      "53       100        3    0     320    1.0   20.0      45       100\n",
      "54        50        1    0       0    0.0   13.0      15         0\n",
      "55        50        2    0       0    1.0   10.0      50         0\n",
      "56       100        4    1     135    2.0   14.0     110        25\n",
      "57       100        5    2       0    2.7   -1.0     110         0\n",
      "58       120        3    1     210    5.0   14.0     240        25\n",
      "59       100        3    2     140    2.5   10.5     140        25\n",
      "60        90        2    0       0    2.0   15.0     110        25\n",
      "61       110        1    0     240    0.0   23.0      30        25\n",
      "62       110        2    0     290    0.0   22.0      35        25\n",
      "63        80        2    0       0    3.0   16.0      95         0\n",
      "64        90        3    0       0    4.0   19.0     140         0\n",
      "65        90        3    0       0    3.0   20.0     120         0\n",
      "66       110        2    1      70    1.0    9.0      40        25\n",
      "67       110        6    0     230    1.0   16.0      55        25\n",
      "68        90        2    0      15    3.0   15.0      90        25\n",
      "69       110        2    1     200    0.0   21.0      35       100\n",
      "70       140        3    1     190    4.0   15.0     230       100\n",
      "71       100        3    1     200    3.0   16.0     110       100\n",
      "72       110        2    1     250    0.0   21.0      60        25\n",
      "73       110        1    1     140    0.0   13.0      25        25\n",
      "74       100        3    1     230    3.0   17.0     115        25\n",
      "75       100        3    1     200    3.0   17.0     110        25\n",
      "76       110        2    1     200    1.0   16.0      60        25\n",
      "\n",
      "[77 rows x 8 columns]\n",
      "0     68.402973\n",
      "1     33.983679\n",
      "2     59.425505\n",
      "3     93.704912\n",
      "4     34.384843\n",
      "5     29.509541\n",
      "6     33.174094\n",
      "7     37.038562\n",
      "8     49.120253\n",
      "9     53.313813\n",
      "10    18.042851\n",
      "11    50.764999\n",
      "12    19.823573\n",
      "13    40.400208\n",
      "14    22.736446\n",
      "15    41.445019\n",
      "16    45.863324\n",
      "17    35.782791\n",
      "18    22.396513\n",
      "19    40.448772\n",
      "20    64.533816\n",
      "21    46.895644\n",
      "22    36.176196\n",
      "23    44.330856\n",
      "24    32.207582\n",
      "25    31.435973\n",
      "26    58.345141\n",
      "27    40.917047\n",
      "28    41.015492\n",
      "29    28.025765\n",
      "        ...    \n",
      "47    40.105965\n",
      "48    29.924285\n",
      "49    40.692320\n",
      "50    59.642837\n",
      "51    30.450843\n",
      "52    37.840594\n",
      "53    41.503540\n",
      "54    60.756112\n",
      "55    63.005645\n",
      "56    49.511874\n",
      "57    50.828392\n",
      "58    39.259197\n",
      "59    39.703400\n",
      "60    55.333142\n",
      "61    41.998933\n",
      "62    40.560159\n",
      "63    68.235885\n",
      "64    74.472949\n",
      "65    72.801787\n",
      "66    31.230054\n",
      "67    53.131324\n",
      "68    59.363993\n",
      "69    38.839746\n",
      "70    28.592785\n",
      "71    46.658844\n",
      "72    39.106174\n",
      "73    27.753301\n",
      "74    49.787445\n",
      "75    51.592193\n",
      "76    36.187559\n",
      "Name: rating, Length: 77, dtype: float64\n"
     ]
    }
   ],
   "source": [
    "#LOAD DATA\n",
    "\n",
    "data=pd.read_csv(\"cereal.csv\")\n",
    "#print(data)\n",
    "\n",
    "#X merepresentasikan data nutrisi\n",
    "X = data[['calories', 'protein', 'fat', 'sodium', 'fiber','carbo',  'potass', 'vitamins']]\n",
    "print(X)\n",
    "\n",
    "#Y merepresentasikan data\n",
    "y= data.iloc[:,15]\n",
    "print(y)"
   ]
  },
  {
   "cell_type": "code",
   "execution_count": 63,
   "metadata": {},
   "outputs": [
    {
     "name": "stdout",
     "output_type": "stream",
     "text": [
      "Accuracy on training set: 0.989288695969809\n",
      "Accuracy on test set: 0.9884067946522488\n"
     ]
    }
   ],
   "source": [
    "#MEMILAH TEST DAN TRAIN\n",
    "\n",
    "X_train, X_test, y_train, y_test = train_test_split(X, y, test_size = 0.25)\n",
    "linear_reg = LinearRegression()\n",
    "linear_reg.fit(X_train, y_train)\n",
    "\n",
    "\n",
    "print(\"Accuracy on training set: {}\".format(linear_reg.score(X_train,y_train)))\n",
    "print(\"Accuracy on test set: {}\".format(linear_reg.score(X_test,y_test)))"
   ]
  },
  {
   "cell_type": "code",
   "execution_count": 53,
   "metadata": {},
   "outputs": [
    {
     "name": "stdout",
     "output_type": "stream",
     "text": [
      "Accuracy on training set : 1.000\n",
      "Accuracy on test set : 0.638\n"
     ]
    }
   ],
   "source": [
    "#MENCOBA MODEL LAIN\n",
    "from sklearn.tree import DecisionTreeClassifier\n",
    "from sklearn.tree import DecisionTreeRegressor\n",
    "\n",
    "tree = DecisionTreeRegressor(random_state=0)\n",
    "tree.fit(X_train,y_train)\n",
    "\n",
    "print(\"Accuracy on training set : {:.3f}\".format(tree.score(X_train,y_train)))\n",
    "print(\"Accuracy on test set : {:.3f}\".format(tree.score(X_test,y_test)))"
   ]
  },
  {
   "cell_type": "code",
   "execution_count": 54,
   "metadata": {},
   "outputs": [
    {
     "name": "stdout",
     "output_type": "stream",
     "text": [
      "Accuracy on training set : 0.928\n",
      "Accuracy on test set : 0.901\n"
     ]
    }
   ],
   "source": [
    "#MENCOBA MODEL LAIN LAGI\n",
    "\n",
    "import pandas as pd \n",
    "import numpy as np\n",
    "from sklearn.ensemble import RandomForestClassifier\n",
    "from sklearn.ensemble import RandomForestRegressor\n",
    "\n",
    "\n",
    "forest = RandomForestRegressor(random_state= np.random.seed(2))\n",
    "forest.fit(X_train,y_train)\n",
    "\n",
    "print(\"Accuracy on training set : {:.3f}\".format(forest.score(X_train,y_train)))\n",
    "print(\"Accuracy on test set : {:.3f}\".format(forest.score(X_test,y_test)))"
   ]
  },
  {
   "cell_type": "code",
   "execution_count": 61,
   "metadata": {},
   "outputs": [],
   "source": [
    "#DIANGGAP YANG TERBAIK ADALAH Linear Regression"
   ]
  },
  {
   "cell_type": "code",
   "execution_count": 62,
   "metadata": {},
   "outputs": [
    {
     "name": "stdout",
     "output_type": "stream",
     "text": [
      "[ 53.5591138   69.62757786  38.01957806  41.09890918  51.72895264\n",
      "  40.94356213  23.20353653  28.75680434  55.89749564  39.33292993\n",
      "  47.93197801  43.68935027  30.80168076  45.50468454  41.09510834\n",
      "  45.77861753]\n"
     ]
    }
   ],
   "source": [
    "prediction = linear_reg.predict(X_test)\n",
    "\n",
    "print(prediction)"
   ]
  },
  {
   "cell_type": "code",
   "execution_count": 65,
   "metadata": {},
   "outputs": [
    {
     "data": {
      "text/plain": [
       "['cerealRegressor.pkl']"
      ]
     },
     "execution_count": 65,
     "metadata": {},
     "output_type": "execute_result"
    }
   ],
   "source": [
    "#MENYIMPAN SEBAGAI .PKL\n",
    "from sklearn.model_selection import train_test_split\n",
    "from sklearn.linear_model import LinearRegression\n",
    "from sklearn.externals import joblib\n",
    "import pandas as pd\n",
    "import mglearn\n",
    "\n",
    "data=pd.read_csv(\"cereal.csv\")\n",
    "\n",
    "#X merepresentasikan data nutrisi\n",
    "X = data[['calories', 'protein', 'fat', 'sodium', 'fiber','carbo',  'potass', 'vitamins']]\n",
    "\n",
    "\n",
    "#Y merepresentasikan data\n",
    "y= data.iloc[:,15]\n",
    "\n",
    "\n",
    "\n",
    "X_train, X_test, y_train, y_test = train_test_split(X, y, test_size = 0.25)\n",
    "\n",
    "linear_reg = LinearRegression()\n",
    "linear_reg.fit(X_train, y_train)\n",
    "\n",
    "\n",
    "temp = [linear_reg,data]\n",
    "joblib.dump(temp,'cerealRegressor.pkl')"
   ]
  },
  {
   "cell_type": "code",
   "execution_count": null,
   "metadata": {
    "collapsed": true
   },
   "outputs": [],
   "source": []
  }
 ],
 "metadata": {
  "kernelspec": {
   "display_name": "Python 3",
   "language": "python",
   "name": "python3"
  },
  "language_info": {
   "codemirror_mode": {
    "name": "ipython",
    "version": 3
   },
   "file_extension": ".py",
   "mimetype": "text/x-python",
   "name": "python",
   "nbconvert_exporter": "python",
   "pygments_lexer": "ipython3",
   "version": "3.6.3"
  }
 },
 "nbformat": 4,
 "nbformat_minor": 2
}
